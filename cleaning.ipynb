{
 "cells": [
  {
   "cell_type": "code",
   "execution_count": 1,
   "metadata": {},
   "outputs": [
    {
     "name": "stdout",
     "output_type": "stream",
     "text": [
      "✅ Data cleaning complete. File saved as 'cleaned_data.csv'.\n"
     ]
    }
   ],
   "source": [
    "import pandas as pd\n",
    "\n",
    "# Step 1: Load the dataset\n",
    "df = pd.read_csv(\"survey.csv\")\n",
    "\n",
    "# Step 2: Drop unnecessary columns\n",
    "columns_to_drop = [\"Timestamp\", \"comments\", \"state\"]  # Remove 'state' if not needed\n",
    "df.drop(columns=columns_to_drop, inplace=True, errors=\"ignore\")\n",
    "\n",
    "# Step 3: Handle missing values\n",
    "df.fillna(\"Unknown\", inplace=True)  # Replace missing values with 'Unknown'\n",
    "\n",
    "# Step 4: Merge similar categorical columns (example)\n",
    "# Combining 'mental_health_consequence' and 'phys_health_consequence' into a general category\n",
    "df[\"health_consequence\"] = df[[\"mental_health_consequence\", \"phys_health_consequence\"]].mode(axis=1)[0]\n",
    "df.drop(columns=[\"mental_health_consequence\", \"phys_health_consequence\"], inplace=True)\n",
    "\n",
    "# Step 5: Convert categorical data into numerical format (One-Hot Encoding)\n",
    "df_encoded = pd.get_dummies(df, drop_first=True)  # Convert categorical values to numerical\n",
    "\n",
    "# Step 6: Save the cleaned dataset\n",
    "df_encoded.to_csv(\"cleaned_data.csv\", index=False)\n",
    "\n",
    "print(\"✅ Data cleaning complete. File saved as 'cleaned_data.csv'.\")"
   ]
  },
  {
   "cell_type": "code",
   "execution_count": null,
   "metadata": {},
   "outputs": [],
   "source": []
  }
 ],
 "metadata": {
  "kernelspec": {
   "display_name": "Python 3",
   "language": "python",
   "name": "python3"
  },
  "language_info": {
   "codemirror_mode": {
    "name": "ipython",
    "version": 3
   },
   "file_extension": ".py",
   "mimetype": "text/x-python",
   "name": "python",
   "nbconvert_exporter": "python",
   "pygments_lexer": "ipython3",
   "version": "3.11.4"
  }
 },
 "nbformat": 4,
 "nbformat_minor": 2
}
